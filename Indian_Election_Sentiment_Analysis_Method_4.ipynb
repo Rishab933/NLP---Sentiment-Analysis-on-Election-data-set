{
  "nbformat": 4,
  "nbformat_minor": 0,
  "metadata": {
    "colab": {
      "provenance": []
    },
    "kernelspec": {
      "name": "python3",
      "display_name": "Python 3"
    },
    "language_info": {
      "name": "python"
    }
  },
  "cells": [
    {
      "cell_type": "code",
      "execution_count": 1,
      "metadata": {
        "id": "7eh6hhwZBkzF"
      },
      "outputs": [],
      "source": [
        "# Import necessary libraries\n",
        "\n",
        "import pandas as pd\n",
        "from sklearn.feature_extraction.text import CountVectorizer\n",
        "from sklearn.model_selection import train_test_split\n",
        "from sklearn.svm import SVC\n",
        "from sklearn.metrics import accuracy_score"
      ]
    },
    {
      "cell_type": "code",
      "source": [
        "# Read data from CSV files\n",
        "modi_data = pd.read_csv('preprocessed_modi_data.csv')\n",
        "rahul_data = pd.read_csv('preprocessed_rahul_data.csv')"
      ],
      "metadata": {
        "id": "7cT-x0AgBx7U"
      },
      "execution_count": 2,
      "outputs": []
    },
    {
      "cell_type": "code",
      "source": [
        "# Explore the data\n",
        "print(modi_data.shape)\n",
        "print(rahul_data.shape)"
      ],
      "metadata": {
        "colab": {
          "base_uri": "https://localhost:8080/"
        },
        "id": "Yx0Lw94EBzfu",
        "outputId": "4729f93f-b03a-47e7-b18a-cb7327e24311"
      },
      "execution_count": 3,
      "outputs": [
        {
          "output_type": "stream",
          "name": "stdout",
          "text": [
            "(25683, 2)\n",
            "(14261, 2)\n"
          ]
        }
      ]
    },
    {
      "cell_type": "markdown",
      "source": [
        "# Prediction about Election with the help of Support Vector Classifier SVC"
      ],
      "metadata": {
        "id": "N5-AWEUjB2yR"
      }
    },
    {
      "cell_type": "code",
      "source": [
        "# Combine data for both candidates\n",
        "modi_data['Label'] = 1  # Modi as class 1\n",
        "rahul_data['Label'] = 0  # Rahul as class 0\n",
        "combined_data = pd.concat([modi_data, rahul_data])\n",
        "combined_data = combined_data.sample(n=10000, random_state=42)\n",
        "\n",
        "# Feature extraction using CountVectorizer\n",
        "vectorizer = CountVectorizer(max_features=500)\n",
        "X = vectorizer.fit_transform(combined_data['Tweet'])\n",
        "y = combined_data['Label']\n",
        "\n",
        "# Split data into training and test sets\n",
        "X_train, X_test, y_train, y_test = train_test_split(X, y, test_size=0.2, random_state=42)\n",
        "\n",
        "# Train the SVC\n",
        "model = SVC(kernel='linear')\n",
        "model.fit(X_train, y_train)\n",
        "\n",
        "# Make predictions and calculate accuracy\n",
        "y_pred = model.predict(X_test)\n",
        "accuracy = accuracy_score(y_test, y_pred)\n",
        "print(f\"Prediction accuracy with Support Vector Classifier: {accuracy * 100:.2f}%\")\n",
        "\n",
        "# Predict winner based on average sentiment\n",
        "modi_prediction = model.predict(vectorizer.transform(modi_data['Tweet']).toarray()).mean()\n",
        "rahul_prediction = model.predict(vectorizer.transform(rahul_data['Tweet']).toarray()).mean()\n",
        "\n",
        "winner = \"Modi\" if modi_prediction > rahul_prediction else \"Rahul\"\n",
        "print(f\"The predicted winner is: {winner}\")\n"
      ],
      "metadata": {
        "colab": {
          "base_uri": "https://localhost:8080/"
        },
        "id": "yjWlrzwdB1A4",
        "outputId": "7994ecef-c62d-4489-abd3-19c1d8305696"
      },
      "execution_count": 5,
      "outputs": [
        {
          "output_type": "stream",
          "name": "stdout",
          "text": [
            "Prediction accuracy with Support Vector Classifier: 86.75%\n",
            "The predicted winner is: Modi\n"
          ]
        }
      ]
    }
  ]
}