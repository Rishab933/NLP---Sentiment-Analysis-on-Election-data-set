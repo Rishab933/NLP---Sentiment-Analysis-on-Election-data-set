{
  "nbformat": 4,
  "nbformat_minor": 0,
  "metadata": {
    "colab": {
      "provenance": []
    },
    "kernelspec": {
      "name": "python3",
      "display_name": "Python 3"
    },
    "language_info": {
      "name": "python"
    }
  },
  "cells": [
    {
      "cell_type": "code",
      "execution_count": 4,
      "metadata": {
        "id": "y79Gg9NS_SoJ"
      },
      "outputs": [],
      "source": [
        "# Import necessary libraries\n",
        "\n",
        "import pandas as pd\n",
        "from sklearn.feature_extraction.text import CountVectorizer\n",
        "from sklearn.model_selection import train_test_split\n",
        "from sklearn.linear_model import LogisticRegression\n",
        "from sklearn.metrics import accuracy_score"
      ]
    },
    {
      "cell_type": "code",
      "source": [
        "# Read data from CSV files\n",
        "modi_data = pd.read_csv('preprocessed_modi_data.csv')\n",
        "rahul_data = pd.read_csv('preprocessed_rahul_data.csv')"
      ],
      "metadata": {
        "id": "tt2RB6I8ABJ-"
      },
      "execution_count": 5,
      "outputs": []
    },
    {
      "cell_type": "code",
      "source": [
        "# Explore the data\n",
        "print(modi_data.shape)\n",
        "print(rahul_data.shape)"
      ],
      "metadata": {
        "colab": {
          "base_uri": "https://localhost:8080/"
        },
        "id": "7e865tPEAC2i",
        "outputId": "a4c9c698-e063-4cb9-f97c-a574f72f5a73"
      },
      "execution_count": 6,
      "outputs": [
        {
          "output_type": "stream",
          "name": "stdout",
          "text": [
            "(25683, 2)\n",
            "(14261, 2)\n"
          ]
        }
      ]
    },
    {
      "cell_type": "markdown",
      "source": [
        "# Prediction about Election with the help of Logistic Regression"
      ],
      "metadata": {
        "id": "cY6B8HCsA27A"
      }
    },
    {
      "cell_type": "code",
      "source": [
        "# Combine data for both candidates\n",
        "modi_data['Label'] = 1  # Modi as class 1\n",
        "rahul_data['Label'] = 0  # Rahul as class 0\n",
        "combined_data = pd.concat([modi_data, rahul_data])\n",
        "\n",
        "# Feature extraction using CountVectorizer\n",
        "vectorizer = CountVectorizer(max_features=1000)\n",
        "X = vectorizer.fit_transform(combined_data['Tweet']).toarray()\n",
        "y = combined_data['Label']\n",
        "\n",
        "# Split data into training and test sets\n",
        "X_train, X_test, y_train, y_test = train_test_split(X, y, test_size=0.2, random_state=42)\n",
        "\n",
        "# Train the Logistic Regression model\n",
        "model = LogisticRegression()\n",
        "model.fit(X_train, y_train)\n",
        "\n",
        "# Make predictions and calculate accuracy\n",
        "y_pred = model.predict(X_test)\n",
        "accuracy = accuracy_score(y_test, y_pred)\n",
        "print(f\"Prediction accuracy with Logistic Regression: {accuracy * 100:.2f}%\")\n",
        "\n",
        "# Predict winner based on average sentiment\n",
        "modi_prediction = model.predict(vectorizer.transform(modi_data['Tweet']).toarray()).mean()\n",
        "rahul_prediction = model.predict(vectorizer.transform(rahul_data['Tweet']).toarray()).mean()\n",
        "\n",
        "winner = \"Modi\" if modi_prediction > rahul_prediction else \"Rahul\"\n",
        "print(f\"The predicted winner is: {winner}\")\n"
      ],
      "metadata": {
        "colab": {
          "base_uri": "https://localhost:8080/"
        },
        "id": "rfEaNEvAAEUk",
        "outputId": "097d10eb-0ba5-4d43-b2fe-5a1f1c71fa19"
      },
      "execution_count": 7,
      "outputs": [
        {
          "output_type": "stream",
          "name": "stdout",
          "text": [
            "Prediction accuracy with Logistic Regression: 87.97%\n",
            "The predicted winner is: Modi\n"
          ]
        }
      ]
    }
  ]
}